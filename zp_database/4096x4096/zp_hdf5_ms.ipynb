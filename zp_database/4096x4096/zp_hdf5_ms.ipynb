{
 "cells": [
  {
   "cell_type": "markdown",
   "metadata": {},
   "source": [
    "Code to convert zone plate pattern in numpy to the time dependent term in parabolic wave equation and store it as hdf5."
   ]
  },
  {
   "cell_type": "code",
   "execution_count": 1,
   "metadata": {},
   "outputs": [],
   "source": [
    "%%capture\n",
    "import numpy as np\n",
    "import matplotlib.pyplot as plt\n",
    "import h5py\n",
    "import pickle,os"
   ]
  },
  {
   "cell_type": "markdown",
   "metadata": {},
   "source": [
    "Switch to directory containing zone plate array and parameters."
   ]
  },
  {
   "cell_type": "code",
   "execution_count": 2,
   "metadata": {},
   "outputs": [],
   "source": [
    "pwd = os.getcwd()\n",
    "os.chdir(pwd+str('/rings'))"
   ]
  },
  {
   "cell_type": "markdown",
   "metadata": {},
   "source": [
    "Load the zone plate pattern from numpy array. <br>\n",
    "Load the parameters from the metadata file associated with the zone plate."
   ]
  },
  {
   "cell_type": "code",
   "execution_count": 3,
   "metadata": {},
   "outputs": [],
   "source": [
    "ZP = np.load(\"zp.npy\")\n",
    "parameters = pickle.load(open('parameters.pickle','rb'))\n",
    "\n",
    "grid_size = parameters['grid_size']\n",
    "energy    = parameters['energy(in eV)']\n",
    "delta     = parameters['delta']\n",
    "beta      = parameters['beta']\n",
    "wavel     = parameters['wavelength in m']\n",
    "\n",
    "dim_x = dim_y = grid_size\n",
    "dim_xy = dim_x*dim_y"
   ]
  },
  {
   "cell_type": "markdown",
   "metadata": {},
   "source": [
    "Switch back to current working directory."
   ]
  },
  {
   "cell_type": "code",
   "execution_count": 4,
   "metadata": {},
   "outputs": [],
   "source": [
    "os.chdir(pwd)"
   ]
  },
  {
   "cell_type": "markdown",
   "metadata": {},
   "source": [
    "Flatten dataset and store as 1D array with the first column containin the real part and the second part containing the imaginary part."
   ]
  },
  {
   "cell_type": "code",
   "execution_count": 5,
   "metadata": {},
   "outputs": [],
   "source": [
    "ZP = ZP.reshape(dim_xy)\n",
    "ZP_ = np.zeros((dim_xy,2))\n",
    "ZP_[:,0] = np.real(ZP)\n",
    "ZP_[:,1] = np.imag(ZP)"
   ]
  },
  {
   "cell_type": "markdown",
   "metadata": {},
   "source": [
    "Create a new hdf5 file to store the dataset. Set the attribute complex for PETSc to interpret the dataset as complex array."
   ]
  },
  {
   "cell_type": "code",
   "execution_count": 6,
   "metadata": {},
   "outputs": [],
   "source": [
    "f = h5py.File(\"ref_index_ms.h5\", \"w\")\n",
    "dset = f.create_dataset(\"ref_index\", np.shape(ZP_), dtype='f8', chunks=True)\n",
    "dset.attrs.__setitem__(\"complex\",1)"
   ]
  },
  {
   "cell_type": "markdown",
   "metadata": {},
   "source": [
    "Transfer the data. Close the hdf5 file after the transfer."
   ]
  },
  {
   "cell_type": "code",
   "execution_count": 7,
   "metadata": {},
   "outputs": [],
   "source": [
    "dset[:,:] = ZP_\n",
    "\n",
    "f.close()"
   ]
  },
  {
   "cell_type": "code",
   "execution_count": null,
   "metadata": {},
   "outputs": [],
   "source": []
  }
 ],
 "metadata": {
  "kernelspec": {
   "display_name": "Python 3",
   "language": "python",
   "name": "python3"
  },
  "language_info": {
   "codemirror_mode": {
    "name": "ipython",
    "version": 3
   },
   "file_extension": ".py",
   "mimetype": "text/x-python",
   "name": "python",
   "nbconvert_exporter": "python",
   "pygments_lexer": "ipython3",
   "version": "3.7.4"
  }
 },
 "nbformat": 4,
 "nbformat_minor": 4
}
